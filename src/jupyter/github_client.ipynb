{
 "cells": [
  {
   "cell_type": "markdown",
   "id": "3d02e21e-f359-4208-a7ab-23d5b597b36b",
   "metadata": {},
   "source": [
    "# 获取 GitHub 项目进展\n",
    "\n",
    "以下代码主要由 GPT-4 生成，演示 `GitHubClient` 模块的版本演进。\n",
    "\n",
    "\n",
    "## 使用 GitHub REST API 获取项目信息\n",
    "\n",
    "GitHub REST API 为开发者提供了便捷获取 GitHub 项目的丰富 API。\n",
    "\n",
    "![Github Docs](images/github_docs.png)\n",
    "\n",
    "例如，获取项目 issues 列表，GitHub 提供了 `\"List repository issues\"` API。 \n",
    "\n",
    "\n",
    "## GitHub Token 配置\n",
    "\n",
    "使用 `GitHubClient` 模块调用 GitHub REST API 需要配置 [GitHub Fine-grained personal access token](https://github.com/settings/tokens?type=beta)。\n",
    "\n",
    "- **配置文件**：正式启动 GitHubSentinel 项目，可以替换 `config.json` 中 `github_token` 值。\n",
    "- **Jupyter测试**：在使用构造函数实例化 GitHubClient 类，以参数形式传入。\n",
    "\n",
    "下面以 https://github.com/langchain-ai/langchain 项目为例，演示 GitHubClient 使用方法"
   ]
  },
  {
   "cell_type": "markdown",
   "id": "73adf08d-659d-4562-b638-1addca4d29db",
   "metadata": {},
   "source": [
    "## [v0.2] GitHubClient Class "
   ]
  },
  {
   "cell_type": "code",
   "execution_count": null,
   "id": "4bea3dc6-173d-4681-a514-2f342bd61dbe",
   "metadata": {},
   "outputs": [],
   "source": [
    "# src/github_client.py\n",
    "\n",
    "import requests  # 导入requests库用于发起HTTP请求\n",
    "import datetime  # 导入datetime库处理日期和时间\n",
    "\n",
    "class GitHubClient:\n",
    "    def __init__(self, token):\n",
    "        self.token = token  # GitHub的访问令牌\n",
    "        # 初始化请求头部，这里主要是为了使用GitHub的API进行身份验证\n",
    "        self.headers = {'Authorization': f'token {self.token}'}\n",
    "\n",
    "    def fetch_updates(self, repos):\n",
    "        # 为给定的仓库列表获取更新，包括提交、问题和拉取请求\n",
    "        updates = {}\n",
    "        for repo in repos:\n",
    "            # 遍历每个仓库并获取相关信息\n",
    "            updates[repo] = {\n",
    "                'commits': self.fetch_commits(repo),  # 获取提交记录\n",
    "                'issues': self.fetch_issues(repo),   # 获取问题\n",
    "                'pull_requests': self.fetch_pull_requests(repo)  # 获取拉取请求\n",
    "            }\n",
    "        return updates\n",
    "\n",
    "    def fetch_commits(self, repo):\n",
    "        # 构建获取提交记录的API URL\n",
    "        url = f'https://api.github.com/repos/{repo}/commits'\n",
    "        response = requests.get(url, headers=self.headers)\n",
    "        response.raise_for_status()  # 检查请求是否成功，如果出错则抛出异常\n",
    "        return response.json()  # 返回解析JSON格式的数据\n",
    "\n",
    "    def fetch_issues(self, repo):\n",
    "        # 构建获取问题(issue)的API URL\n",
    "        url = f'https://api.github.com/repos/{repo}/issues'\n",
    "        response = requests.get(url, headers=self.headers)\n",
    "        response.raise_for_status()  # 确保响应没有HTTP错误\n",
    "        return response.json()  # 返回JSON数据\n",
    "\n",
    "    def fetch_pull_requests(self, repo):\n",
    "        # 构建获取拉取请求(pull requests)的API URL\n",
    "        url = f'https://api.github.com/repos/{repo}/pulls'\n",
    "        response = requests.get(url, headers=self.headers)\n",
    "        response.raise_for_status()\n",
    "        return response.json()  # 返回JSON格式的拉取请求数据\n",
    "\n",
    "    def export_daily_progress(self, repo):\n",
    "        # 导出指定仓库的每日进度，包括问题和拉取请求\n",
    "        date_str = datetime.datetime.now().strftime('%Y-%m-%d')  # 获取当前日期字符串\n",
    "        issues = self.fetch_issues(repo)  # 获取当天的问题\n",
    "        pull_requests = self.fetch_pull_requests(repo)  # 获取当天的拉取请求\n",
    "        filename = f\"{repo.replace('/', '_')}_{date_str}.md\"  # 根据仓库名和日期生成文件名\n",
    "\n",
    "        # 打开文件进行写入\n",
    "        with open(filename, 'w') as f:\n",
    "            f.write(f\"# {repo} Daily Progress - {date_str}\\n\\n\")  # 写入标题\n",
    "            f.write(\"## Issues\\n\")\n",
    "            for issue in issues:\n",
    "                f.write(f\"- {issue['title']} #{issue['number']}\\n\")  # 列出每个问题\n",
    "            f.write(\"\\n## Pull Requests\\n\")\n",
    "            for pr in pull_requests:\n",
    "                f.write(f\"- {pr['title']} #{pr['number']}\\n\")  # 列出每个拉取请求\n",
    "\n",
    "        print(f\"Exported daily progress to {filename}\")  # 打印导出信息\n",
    "\n",
    "        return filename\n"
   ]
  },
  {
   "cell_type": "markdown",
   "id": "aca547cb-b5ef-46b3-99ab-9d497ddb2a6a",
   "metadata": {},
   "source": [
    "### 实例化 GitHubClient\n",
    "\n",
    "从环境变量中获取 `GITHUB_TOKEN`，依次获取 Commits, Issues 和 Pull Requests。"
   ]
  },
  {
   "cell_type": "code",
   "execution_count": null,
   "id": "bc0e84ec-660e-422e-8fa4-d52e5cbf3d93",
   "metadata": {},
   "outputs": [],
   "source": [
    "import os\n",
    "\n",
    "github_client = GitHubClient(token=os.getenv(\"GITHUB_TOKEN\"))"
   ]
  },
  {
   "cell_type": "markdown",
   "id": "c8552b90-25a0-436a-9879-ba5163e03c07",
   "metadata": {},
   "source": []
  },
  {
   "cell_type": "markdown",
   "id": "537dc3d1-78f3-4bf9-b227-9cc5eaa3a1b2",
   "metadata": {
    "jupyter": {
     "source_hidden": true
    }
   },
   "source": [
    "### List Issues API\n",
    "\n",
    "API完整文档说明见：https://docs.github.com/en/rest/issues/issues?apiVersion=2022-11-28#list-repository-issues\n",
    "\n",
    "**请求样例**：`GET /repos/{owner}/{repo}/issues`;\n",
    "\n",
    "**返回样例**：\n",
    "\n",
    "```json\n",
    "[\n",
    "  {\n",
    "    \"id\": 1,\n",
    "    \"node_id\": \"MDU6SXNzdWUx\",\n",
    "    \"url\": \"https://api.github.com/repos/octocat/Hello-World/issues/1347\",\n",
    "    \"repository_url\": \"https://api.github.com/repos/octocat/Hello-World\",\n",
    "    \"labels_url\": \"https://api.github.com/repos/octocat/Hello-World/issues/1347/labels{/name}\",\n",
    "    \"comments_url\": \"https://api.github.com/repos/octocat/Hello-World/issues/1347/comments\",\n",
    "    \"events_url\": \"https://api.github.com/repos/octocat/Hello-World/issues/1347/events\",\n",
    "    \"html_url\": \"https://github.com/octocat/Hello-World/issues/1347\",\n",
    "    \"number\": 1347,\n",
    "    \"state\": \"open\",\n",
    "    \"title\": \"Found a bug\",\n",
    "    \"body\": \"I'm having a problem with this.\",\n",
    "    \"user\": {\n",
    "      \"login\": \"octocat\",\n",
    "      \"id\": 1,\n",
    "      \"node_id\": \"MDQ6VXNlcjE=\",\n",
    "      \"avatar_url\": \"https://github.com/images/error/octocat_happy.gif\",\n",
    "      \"gravatar_id\": \"\",\n",
    "      \"url\": \"https://api.github.com/users/octocat\",\n",
    "      \"html_url\": \"https://github.com/octocat\",\n",
    "      \"followers_url\": \"https://api.github.com/users/octocat/followers\",\n",
    "      \"following_url\": \"https://api.github.com/users/octocat/following{/other_user}\",\n",
    "      \"gists_url\": \"https://api.github.com/users/octocat/gists{/gist_id}\",\n",
    "      \"starred_url\": \"https://api.github.com/users/octocat/starred{/owner}{/repo}\",\n",
    "      \"subscriptions_url\": \"https://api.github.com/users/octocat/subscriptions\",\n",
    "      \"organizations_url\": \"https://api.github.com/users/octocat/orgs\",\n",
    "      \"repos_url\": \"https://api.github.com/users/octocat/repos\",\n",
    "      \"events_url\": \"https://api.github.com/users/octocat/events{/privacy}\",\n",
    "      \"received_events_url\": \"https://api.github.com/users/octocat/received_events\",\n",
    "      \"type\": \"User\",\n",
    "      \"site_admin\": false\n",
    "    },\n",
    "    \"labels\": [\n",
    "      {\n",
    "        \"id\": 208045946,\n",
    "        \"node_id\": \"MDU6TGFiZWwyMDgwNDU5NDY=\",\n",
    "        \"url\": \"https://api.github.com/repos/octocat/Hello-World/labels/bug\",\n",
    "        \"name\": \"bug\",\n",
    "        \"description\": \"Something isn't working\",\n",
    "        \"color\": \"f29513\",\n",
    "        \"default\": true\n",
    "      }\n",
    "    ],\n",
    "    \"assignee\": {\n",
    "      \"login\": \"octocat\",\n",
    "      \"id\": 1,\n",
    "      \"node_id\": \"MDQ6VXNlcjE=\",\n",
    "      \"avatar_url\": \"https://github.com/images/error/octocat_happy.gif\",\n",
    "      \"gravatar_id\": \"\",\n",
    "      \"url\": \"https://api.github.com/users/octocat\",\n",
    "      \"html_url\": \"https://github.com/octocat\",\n",
    "      \"followers_url\": \"https://api.github.com/users/octocat/followers\",\n",
    "      \"following_url\": \"https://api.github.com/users/octocat/following{/other_user}\",\n",
    "      \"gists_url\": \"https://api.github.com/users/octocat/gists{/gist_id}\",\n",
    "      \"starred_url\": \"https://api.github.com/users/octocat/starred{/owner}{/repo}\",\n",
    "      \"subscriptions_url\": \"https://api.github.com/users/octocat/subscriptions\",\n",
    "      \"organizations_url\": \"https://api.github.com/users/octocat/orgs\",\n",
    "      \"repos_url\": \"https://api.github.com/users/octocat/repos\",\n",
    "      \"events_url\": \"https://api.github.com/users/octocat/events{/privacy}\",\n",
    "      \"received_events_url\": \"https://api.github.com/users/octocat/received_events\",\n",
    "      \"type\": \"User\",\n",
    "      \"site_admin\": false\n",
    "    },\n",
    "    \"assignees\": [\n",
    "      {\n",
    "        \"login\": \"octocat\",\n",
    "        \"id\": 1,\n",
    "        \"node_id\": \"MDQ6VXNlcjE=\",\n",
    "        \"avatar_url\": \"https://github.com/images/error/octocat_happy.gif\",\n",
    "        \"gravatar_id\": \"\",\n",
    "        \"url\": \"https://api.github.com/users/octocat\",\n",
    "        \"html_url\": \"https://github.com/octocat\",\n",
    "        \"followers_url\": \"https://api.github.com/users/octocat/followers\",\n",
    "        \"following_url\": \"https://api.github.com/users/octocat/following{/other_user}\",\n",
    "        \"gists_url\": \"https://api.github.com/users/octocat/gists{/gist_id}\",\n",
    "        \"starred_url\": \"https://api.github.com/users/octocat/starred{/owner}{/repo}\",\n",
    "        \"subscriptions_url\": \"https://api.github.com/users/octocat/subscriptions\",\n",
    "        \"organizations_url\": \"https://api.github.com/users/octocat/orgs\",\n",
    "        \"repos_url\": \"https://api.github.com/users/octocat/repos\",\n",
    "        \"events_url\": \"https://api.github.com/users/octocat/events{/privacy}\",\n",
    "        \"received_events_url\": \"https://api.github.com/users/octocat/received_events\",\n",
    "        \"type\": \"User\",\n",
    "        \"site_admin\": false\n",
    "      }\n",
    "    ],\n",
    "    \"milestone\": {\n",
    "      \"url\": \"https://api.github.com/repos/octocat/Hello-World/milestones/1\",\n",
    "      \"html_url\": \"https://github.com/octocat/Hello-World/milestones/v1.0\",\n",
    "      \"labels_url\": \"https://api.github.com/repos/octocat/Hello-World/milestones/1/labels\",\n",
    "      \"id\": 1002604,\n",
    "      \"node_id\": \"MDk6TWlsZXN0b25lMTAwMjYwNA==\",\n",
    "      \"number\": 1,\n",
    "      \"state\": \"open\",\n",
    "      \"title\": \"v1.0\",\n",
    "      \"description\": \"Tracking milestone for version 1.0\",\n",
    "      \"creator\": {\n",
    "        \"login\": \"octocat\",\n",
    "        \"id\": 1,\n",
    "        \"node_id\": \"MDQ6VXNlcjE=\",\n",
    "        \"avatar_url\": \"https://github.com/images/error/octocat_happy.gif\",\n",
    "        \"gravatar_id\": \"\",\n",
    "        \"url\": \"https://api.github.com/users/octocat\",\n",
    "        \"html_url\": \"https://github.com/octocat\",\n",
    "        \"followers_url\": \"https://api.github.com/users/octocat/followers\",\n",
    "        \"following_url\": \"https://api.github.com/users/octocat/following{/other_user}\",\n",
    "        \"gists_url\": \"https://api.github.com/users/octocat/gists{/gist_id}\",\n",
    "        \"starred_url\": \"https://api.github.com/users/octocat/starred{/owner}{/repo}\",\n",
    "        \"subscriptions_url\": \"https://api.github.com/users/octocat/subscriptions\",\n",
    "        \"organizations_url\": \"https://api.github.com/users/octocat/orgs\",\n",
    "        \"repos_url\": \"https://api.github.com/users/octocat/repos\",\n",
    "        \"events_url\": \"https://api.github.com/users/octocat/events{/privacy}\",\n",
    "        \"received_events_url\": \"https://api.github.com/users/octocat/received_events\",\n",
    "        \"type\": \"User\",\n",
    "        \"site_admin\": false\n",
    "      },\n",
    "      \"open_issues\": 4,\n",
    "      \"closed_issues\": 8,\n",
    "      \"created_at\": \"2011-04-10T20:09:31Z\",\n",
    "      \"updated_at\": \"2014-03-03T18:58:10Z\",\n",
    "      \"closed_at\": \"2013-02-12T13:22:01Z\",\n",
    "      \"due_on\": \"2012-10-09T23:39:01Z\"\n",
    "    },\n",
    "    \"locked\": true,\n",
    "    \"active_lock_reason\": \"too heated\",\n",
    "    \"comments\": 0,\n",
    "    \"pull_request\": {\n",
    "      \"url\": \"https://api.github.com/repos/octocat/Hello-World/pulls/1347\",\n",
    "      \"html_url\": \"https://github.com/octocat/Hello-World/pull/1347\",\n",
    "      \"diff_url\": \"https://github.com/octocat/Hello-World/pull/1347.diff\",\n",
    "      \"patch_url\": \"https://github.com/octocat/Hello-World/pull/1347.patch\"\n",
    "    },\n",
    "    \"closed_at\": null,\n",
    "    \"created_at\": \"2011-04-22T13:33:48Z\",\n",
    "    \"updated_at\": \"2011-04-22T13:33:48Z\",\n",
    "    \"closed_by\": {\n",
    "      \"login\": \"octocat\",\n",
    "      \"id\": 1,\n",
    "      \"node_id\": \"MDQ6VXNlcjE=\",\n",
    "      \"avatar_url\": \"https://github.com/images/error/octocat_happy.gif\",\n",
    "      \"gravatar_id\": \"\",\n",
    "      \"url\": \"https://api.github.com/users/octocat\",\n",
    "      \"html_url\": \"https://github.com/octocat\",\n",
    "      \"followers_url\": \"https://api.github.com/users/octocat/followers\",\n",
    "      \"following_url\": \"https://api.github.com/users/octocat/following{/other_user}\",\n",
    "      \"gists_url\": \"https://api.github.com/users/octocat/gists{/gist_id}\",\n",
    "      \"starred_url\": \"https://api.github.com/users/octocat/starred{/owner}{/repo}\",\n",
    "      \"subscriptions_url\": \"https://api.github.com/users/octocat/subscriptions\",\n",
    "      \"organizations_url\": \"https://api.github.com/users/octocat/orgs\",\n",
    "      \"repos_url\": \"https://api.github.com/users/octocat/repos\",\n",
    "      \"events_url\": \"https://api.github.com/users/octocat/events{/privacy}\",\n",
    "      \"received_events_url\": \"https://api.github.com/users/octocat/received_events\",\n",
    "      \"type\": \"User\",\n",
    "      \"site_admin\": false\n",
    "    },\n",
    "    \"author_association\": \"COLLABORATOR\",\n",
    "    \"state_reason\": \"completed\"\n",
    "  }\n",
    "]\n",
    "```"
   ]
  },
  {
   "cell_type": "code",
   "execution_count": null,
   "id": "41a925fe-06ec-4dd5-88e0-e3137f5b0237",
   "metadata": {},
   "outputs": [],
   "source": [
    "repo = \"langchain-ai/langchain\""
   ]
  },
  {
   "cell_type": "code",
   "execution_count": null,
   "id": "2ea49c63-4b35-4cdd-9152-49a3f9cea02c",
   "metadata": {},
   "outputs": [],
   "source": [
    "issues = github_client.fetch_issues(repo)"
   ]
  },
  {
   "cell_type": "markdown",
   "id": "a64ee72d-8146-4567-b867-8e0277fb1c26",
   "metadata": {},
   "source": [
    "\n",
    "### GitHubClient fetch 方法 repo 参数格式要求\n",
    "\n",
    "从 GitHub 获取项目进展，需要访问形如 `https://api.github.com/repos/{repo}/issues`(以issues为例）的 URL。因此，repo 必须符合 GitHub Repo 标准命名，如下所示:\n",
    "\n",
    "```json\n",
    "[\n",
    "    \"langchain-ai/langchain\",\n",
    "    \"DjangoPeng/openai-quickstart\",\n",
    "    \"ollama/ollama\"\n",
    "]\n",
    "```\n",
    "\n",
    "**GitHubSentinel 项目订阅管理配置文件为 `subscriptions.json`。**"
   ]
  },
  {
   "cell_type": "code",
   "execution_count": null,
   "id": "3c598801-4d38-41c4-863e-4b0c0f8f6446",
   "metadata": {
    "collapsed": true,
    "jupyter": {
     "outputs_hidden": true
    },
    "scrolled": true
   },
   "outputs": [],
   "source": [
    "issues"
   ]
  },
  {
   "cell_type": "code",
   "execution_count": null,
   "id": "378422ac-2287-46c9-9081-54396dfd37fd",
   "metadata": {},
   "outputs": [],
   "source": []
  },
  {
   "cell_type": "markdown",
   "id": "2845a980-d57f-4989-97c5-bc7f27a0e741",
   "metadata": {},
   "source": [
    "### List Pull Requests API\n",
    "\n",
    "API完整文档说明见：https://docs.github.com/en/rest/pulls/pulls?apiVersion=2022-11-28#list-pull-requests\n",
    "\n",
    "**请求样例**：`GET /repos/{owner}/{repo}/pulls`;\n",
    "\n"
   ]
  },
  {
   "cell_type": "code",
   "execution_count": null,
   "id": "55a28e60-c38a-4f7f-8f13-f474795d9450",
   "metadata": {},
   "outputs": [],
   "source": [
    "pull_requests = github_client.fetch_pull_requests(repo)"
   ]
  },
  {
   "cell_type": "code",
   "execution_count": null,
   "id": "ca72ec22-3d54-4730-b358-8dd855748656",
   "metadata": {
    "collapsed": true,
    "jupyter": {
     "outputs_hidden": true
    },
    "scrolled": true
   },
   "outputs": [],
   "source": [
    "pull_requests"
   ]
  },
  {
   "cell_type": "code",
   "execution_count": null,
   "id": "0993f0bd-49d5-4e05-9911-f31d86df7afb",
   "metadata": {},
   "outputs": [],
   "source": []
  },
  {
   "cell_type": "markdown",
   "id": "3ad6da5d-4da5-4af6-adb3-a1d1c3f3fb98",
   "metadata": {},
   "source": [
    "### List Commits API\n",
    "\n",
    "API完整文档说明见：https://docs.github.com/en/rest/commits/commits?apiVersion=2022-11-28\n",
    "\n",
    "**请求样例**：`GET /repos/{owner}/{repo}/commits`;\n"
   ]
  },
  {
   "cell_type": "code",
   "execution_count": null,
   "id": "9a3bb6da-829d-4efa-86a9-be5da31f7853",
   "metadata": {},
   "outputs": [],
   "source": [
    "commits = github_client.fetch_commits(repo)"
   ]
  },
  {
   "cell_type": "code",
   "execution_count": null,
   "id": "c427455d-a6e5-49cb-aa83-354842e8e442",
   "metadata": {
    "collapsed": true,
    "jupyter": {
     "outputs_hidden": true
    }
   },
   "outputs": [],
   "source": [
    "commits"
   ]
  },
  {
   "cell_type": "code",
   "execution_count": null,
   "id": "47c35db6-2da3-4037-85c1-b5b28ac5985d",
   "metadata": {},
   "outputs": [],
   "source": []
  },
  {
   "cell_type": "markdown",
   "id": "bec2a396-7e6a-40d7-9103-c5b543b6e6d6",
   "metadata": {},
   "source": [
    "## 解析导出每日进展\n",
    "\n",
    "API 请求返回结构过于复杂，我们先解析 `title` 字段，即仅查看和总结 GitHub 项目 Issues list 和 PRs List 标题。如下所示：\n",
    "\n",
    "![Issues](images/issues.png)\n",
    "\n",
    "https://github.com/langchain-ai/langchain/issues"
   ]
  },
  {
   "cell_type": "code",
   "execution_count": null,
   "id": "d0fb8044-2dd9-49d6-b629-498ec5e00684",
   "metadata": {},
   "outputs": [],
   "source": [
    "github_client.export_daily_progress(repo)"
   ]
  },
  {
   "cell_type": "code",
   "execution_count": null,
   "id": "61f67bce-ceed-4334-9008-e151a7c01bae",
   "metadata": {},
   "outputs": [],
   "source": []
  },
  {
   "cell_type": "markdown",
   "id": "d2405e97-c65a-4f42-82f0-c633e3bdce83",
   "metadata": {},
   "source": [
    "### 查看文档 发现问题并不简单😈😈\n",
    "\n",
    "#### Note: Every pull request is an issue\n",
    "\n",
    "> GitHub's REST API considers every pull request an issue, but not every issue is a pull request. For this reason, \"Issues\" endpoints may return both issues and pull requests in the response. You can identify pull requests by the pull_request key. Be aware that the id of a pull request returned from \"Issues\" endpoints will be an issue id. To find out the pull request id, use the \"List pull requests\" endpoint."
   ]
  },
  {
   "cell_type": "code",
   "execution_count": null,
   "id": "72351ab3-0036-41c4-8b2d-d97bd184d25a",
   "metadata": {},
   "outputs": [],
   "source": []
  },
  {
   "cell_type": "code",
   "execution_count": null,
   "id": "ea054369-9203-4c1f-9295-30ddb28a425d",
   "metadata": {},
   "outputs": [],
   "source": []
  },
  {
   "cell_type": "code",
   "execution_count": null,
   "id": "8d2c65c9-387b-4477-9889-2cc2733d1171",
   "metadata": {},
   "outputs": [],
   "source": []
  },
  {
   "cell_type": "markdown",
   "id": "f1a2f29a-99cc-4539-ba51-03b057358a51",
   "metadata": {},
   "source": [
    "# 支持条件筛选的 GitHub 项目进展获取\n",
    "\n",
    "实际开发场景中，项目进展通常不是刚好以天为周期时。因此，这便暴露出v0.2版本的 `GitHubClient` 在信息获取方面的局限性。\n",
    "\n",
    "\n",
    "下面我们扩展 v0.2 版本的 `GitHubClient`，使其支持根据筛选条件获取 GitHub 项目的 Issues 和 Pull Requests。首要支持的筛选条便是**研发周期（时间段）**，**已合并的PR** 和 **已关闭的Issues**：\n",
    "\n",
    "![langchain_week_progress](images/langchain_week_progress.jpg)\n",
    "\n",
    "通过阅读 GitHub API 文档（https://docs.github.com/en/rest/issues/issues?apiVersion=2022-11-28#list-repository-issues--code-samples ），我们便能了解最关键的2个字段是：\n",
    "\n",
    "- state(string): Indicates the state of the issues to return.\n",
    "    - Default: open\n",
    "    - Can be one of: open, closed, all\n",
    "- since(string): Only show results that were last updated after the given time. This is a timestamp in ISO 8601 format: YYYY-MM-DDTHH:MM:SSZ.\n",
    "\n",
    "从功能完整性角度，我们还可以增加一个 `until` 条件，以支持研发周期的结束时间筛选。😈😈\n",
    "\n",
    "\n",
    "下面以 Langchain 项目 (https://github.com/langchain-ai/langchain) 为例，展示如何使用扩展后的 GitHubClient\n",
    "\n",
    "## [v0.3] GitHubClient Class "
   ]
  },
  {
   "cell_type": "code",
   "execution_count": null,
   "id": "34c56450-0f5a-4eac-833d-9f23ac4246e0",
   "metadata": {},
   "outputs": [],
   "source": [
    "# src/logger.py\n",
    "from loguru import logger\n",
    "import sys\n",
    "\n",
    "# Configure Loguru\n",
    "logger.remove()  # Remove the default logger\n",
    "logger.add(sys.stdout, level=\"DEBUG\", format=\"{time} {level} {message}\", colorize=True)\n",
    "logger.add(\"logs/app.log\", rotation=\"1 MB\", level=\"DEBUG\")\n",
    "\n",
    "# Alias the logger for easier import\n",
    "LOG = logger\n",
    "\n",
    "# Make the logger available for import with the alias\n",
    "__all__ = [\"LOG\"]\n",
    "\n",
    "\n",
    "# src/github_client.py\n",
    "\n",
    "import requests  # 导入requests库用于HTTP请求\n",
    "from datetime import datetime, date, timedelta  # 导入日期处理模块\n",
    "import os  # 导入os模块用于文件和目录操作\n",
    "# from logger import LOG  # 导入日志模块（演示时直接导入）\n",
    "\n",
    "class GitHubClient:\n",
    "    def __init__(self, token):\n",
    "        self.token = token  # GitHub API令牌\n",
    "        self.headers = {'Authorization': f'token {self.token}'}  # 设置HTTP头部认证信息\n",
    "\n",
    "    def fetch_updates(self, repo, since=None, until=None):\n",
    "        # 获取指定仓库的更新，可以指定开始和结束日期\n",
    "        updates = {\n",
    "            'commits': self.fetch_commits(repo, since, until),  # 获取提交记录\n",
    "            'issues': self.fetch_issues(repo, since, until),  # 获取问题\n",
    "            'pull_requests': self.fetch_pull_requests(repo, since, until)  # 获取拉取请求\n",
    "        }\n",
    "        return updates\n",
    "\n",
    "    def fetch_commits(self, repo, since=None, until=None):\n",
    "        url = f'https://api.github.com/repos/{repo}/commits'  # 构建获取提交的API URL\n",
    "        params = {}\n",
    "        if since:\n",
    "            params['since'] = since  # 如果指定了开始日期，添加到参数中\n",
    "        if until:\n",
    "            params['until'] = until  # 如果指定了结束日期，添加到参数中\n",
    "\n",
    "        response = requests.get(url, headers=self.headers, params=params)\n",
    "        response.raise_for_status()  # 检查请求是否成功\n",
    "        return response.json()  # 返回JSON格式的数据\n",
    "\n",
    "    def fetch_issues(self, repo, since=None, until=None):\n",
    "        url = f'https://api.github.com/repos/{repo}/issues'  # 构建获取问题的API URL\n",
    "        params = {\n",
    "            'state': 'closed',  # 仅获取已关闭的问题\n",
    "            'since': since,\n",
    "            'until': until\n",
    "        }\n",
    "        response = requests.get(url, headers=self.headers, params=params)\n",
    "        response.raise_for_status()\n",
    "        return response.json()\n",
    "\n",
    "    def fetch_pull_requests(self, repo, since=None, until=None):\n",
    "        url = f'https://api.github.com/repos/{repo}/pulls'  # 构建获取拉取请求的API URL\n",
    "        params = {\n",
    "            'state': 'closed',  # 仅获取已合并的拉取请求\n",
    "            'since': since,\n",
    "            'until': until\n",
    "        }\n",
    "        response = requests.get(url, headers=self.headers, params=params)\n",
    "        response.raise_for_status()\n",
    "        return response.json()\n",
    "\n",
    "    def export_daily_progress(self, repo):\n",
    "        today = datetime.now().date().isoformat()  # 获取今天的日期\n",
    "        updates = self.fetch_updates(repo, since=today)  # 获取今天的更新数据\n",
    "        \n",
    "        repo_dir = os.path.join('daily_progress', repo.replace(\"/\", \"_\"))  # 构建存储路径\n",
    "        os.makedirs(repo_dir, exist_ok=True)  # 确保目录存在\n",
    "        \n",
    "        file_path = os.path.join(repo_dir, f'{today}.md')  # 构建文件路径\n",
    "        with open(file_path, 'w') as file:\n",
    "            file.write(f\"# Daily Progress for {repo} ({today})\\n\\n\")\n",
    "            file.write(\"\\n## Issues Closed Today\\n\")\n",
    "            for issue in updates['issues']:  # 写入今天关闭的问题\n",
    "                file.write(f\"- {issue['title']} #{issue['number']}\\n\")\n",
    "            file.write(\"\\n## Pull Requests Merged Today\\n\")\n",
    "            for pr in updates['pull_requests']:  # 写入今天合并的拉取请求\n",
    "                file.write(f\"- {pr['title']} #{pr['number']}\\n\")\n",
    "        \n",
    "        LOG.info(f\"Exported daily progress to {file_path}\")  # 记录日志\n",
    "        return file_path\n",
    "\n",
    "    def export_progress_by_date_range(self, repo, days):\n",
    "        today = date.today()  # 获取当前日期\n",
    "        since = today - timedelta(days=days)  # 计算开始日期\n",
    "        \n",
    "        updates = self.fetch_updates(repo, since=since.isoformat(), until=today.isoformat())  # 获取指定日期范围内的更新\n",
    "        \n",
    "        repo_dir = os.path.join('daily_progress', repo.replace(\"/\", \"_\"))  # 构建目录路径\n",
    "        os.makedirs(repo_dir, exist_ok=True)  # 确保目录存在\n",
    "        \n",
    "        # 更新文件名以包含日期范围\n",
    "        date_str = f\"{since}_to_{today}\"\n",
    "        file_path = os.path.join(repo_dir, f'{date_str}.md')  # 构建文件路径\n",
    "        \n",
    "        with open(file_path, 'w') as file:\n",
    "            file.write(f\"# Progress for {repo} ({since} to {today})\\n\\n\")\n",
    "            file.write(f\"\\n## Issues Closed in the Last {days} Days\\n\")\n",
    "            for issue in updates['issues']:  # 写入在指定日期内关闭的问题\n",
    "                file.write(f\"- {issue['title']} #{issue['number']}\\n\")\n",
    "            file.write(\"\\n## Pull Requests Merged in the Last {days} Days\\n\")\n",
    "            for pr in updates['pull_requests']:  # 写入在指定日期内合并的拉取请求\n",
    "                file.write(f\"- {pr['title']} #{pr['number']}\\n\")\n",
    "        \n",
    "        LOG.info(f\"Exported time-range progress to {file_path}\")  # 记录日志\n",
    "        return file_path"
   ]
  },
  {
   "cell_type": "code",
   "execution_count": null,
   "id": "a98efa04-2547-4db7-a443-f1420135df68",
   "metadata": {},
   "outputs": [],
   "source": [
    "# 实例化 v0.3 版本的 GitHub Client\n",
    "github_client = GitHubClient(token=os.getenv(\"GITHUB_TOKEN\"))"
   ]
  },
  {
   "cell_type": "markdown",
   "id": "b67b61e5-4be0-45a9-820d-94ccc41a710f",
   "metadata": {},
   "source": [
    "### 获取过去1天 LangChain 进展（已关闭的Issues）"
   ]
  },
  {
   "cell_type": "code",
   "execution_count": null,
   "id": "a5fd57a8-53f8-47e9-9b76-1deae06f54e5",
   "metadata": {},
   "outputs": [],
   "source": [
    "# 获取今天的日期，从午夜开始，ISO 8601格式\n",
    "today = datetime.now().replace(hour=0, minute=0, second=0, microsecond=0).isoformat()\n",
    "\n",
    "# 获取今天关闭的Issues\n",
    "closed_issues_today = github_client.fetch_issues(repo='langchain-ai/langchain', since=today, until=today)\n",
    "\n",
    "# 打印今天关闭的Issues标题\n",
    "for issue in closed_issues_today:\n",
    "    print(f\"Issue #{issue['number']}: {issue['title']} (关闭时间 {issue['closed_at']})\")\n"
   ]
  },
  {
   "cell_type": "code",
   "execution_count": null,
   "id": "573cd198-09e0-4478-ac83-644033e3db29",
   "metadata": {},
   "outputs": [],
   "source": [
    "# 获取过去3天的日期\n",
    "three_days_ago = datetime.now() - timedelta(days=3)\n",
    "three_days_ago = three_days_ago.replace(hour=0, minute=0, second=0, microsecond=0).isoformat()\n",
    "\n",
    "# 获取过去3天关闭的Issues\n",
    "closed_issues_last_3_days = github_client.fetch_issues(repo='langchain-ai/langchain', since=three_days_ago, until=today)\n",
    "\n",
    "# 打印过去3天关闭的Issues标题\n",
    "for issue in closed_issues_last_3_days:\n",
    "    print(f\"Issue #{issue['number']}: {issue['title']} (关闭时间 {issue['closed_at']})\")\n"
   ]
  },
  {
   "cell_type": "markdown",
   "id": "41b45379-e3eb-45b5-aa91-430baf514fb2",
   "metadata": {},
   "source": [
    "## 优化导出文件管理\n",
    "\n",
    "考虑到 GitHubSentinel 项目长期运行将会生成一大批项目进展文件，因此将所有进展文件统一存储在`daily_progress` 目录下，并按照 `{owners}_{repo}/{since_day}_{until_day}.md` 方式命名。\n",
    "\n",
    "如下所示：\n",
    "\n",
    "```shell\n",
    "daily_progress\n",
    "├── langchain-ai_langchain\n",
    "│   ├── 2024-08-04.md\n",
    "│   ├── 2024-08-04_report.md\n",
    "│   ├── 2024-08-18.md\n",
    "│   └── 2024-08-18_report.md\n",
    "├── llm_logs.log\n",
    "├── ollama_ollama\n",
    "│   ├── 2024-07-30_to_2024-08-04.md\n",
    "│   ├── 2024-07-30_to_2024-08-04_report.md\n",
    "│   ├── 2024-08-02_to_2024-08-04.md\n",
    "│   ├── 2024-08-02_to_2024-08-04_report.md\n",
    "│   ├── 2024-08-04.md\n",
    "│   └── 2024-08-04_report.md\n",
    "```"
   ]
  },
  {
   "cell_type": "code",
   "execution_count": null,
   "id": "ff975705-0ebd-4aa4-b2c6-807be025f3f6",
   "metadata": {},
   "outputs": [],
   "source": [
    "github_client.export_progress_by_date_range(repo='langchain-ai/langchain', days=3)"
   ]
  },
  {
   "cell_type": "code",
   "execution_count": null,
   "id": "326d5255-9ff5-46b8-aeb1-8d98f02acf5c",
   "metadata": {},
   "outputs": [],
   "source": [
    "github_client.export_daily_progress(repo='langchain-ai/langchain')"
   ]
  },
  {
   "cell_type": "code",
   "execution_count": null,
   "id": "483cbc04-fe22-4a75-ad36-1500c7b90c64",
   "metadata": {},
   "outputs": [],
   "source": []
  },
  {
   "cell_type": "code",
   "execution_count": null,
   "id": "207c2a37-d869-4bc2-ba02-d73e386687d3",
   "metadata": {},
   "outputs": [],
   "source": []
  },
  {
   "cell_type": "code",
   "execution_count": null,
   "id": "3b1ffa62-4582-40de-9af5-abee331968fd",
   "metadata": {},
   "outputs": [],
   "source": []
  },
  {
   "attachments": {
    "12c41fc1-1001-4b5c-9905-131457956a2e.png": {
     "image/png": "[encoded data removed]"
    },
    "532f2f6e-17e4-4d49-934e-d7301d9e8d9b.png": {
     "image/png": "[encoded data removed]"
    },
    "bd00a348-af22-4a69-b64d-5f676f9ed7ee.png": {
     "image/png": "[encoded data removed]"
    },
    "d7c01738-e689-409e-b9aa-476cad3f8220.png": {
     "image/png": "[encoded data removed]"
    }
   },
   "cell_type": "markdown",
   "id": "992c1e44-0bd8-4aae-b664-94dcb9d62db1",
   "metadata": {},
   "source": [
    "### Homework: [可选] 尝试扩展 GitHubClient，使其支持 Since + Until 参数的特定时间段筛选\n",
    "![image.png](attachment:12c41fc1-1001-4b5c-9905-131457956a2e.png)![image.png](attachment:532f2f6e-17e4-4d49-934e-d7301d9e8d9b.png)![image.png](attachment:d7c01738-e689-409e-b9aa-476cad3f8220.png)![image.png](attachment:bd00a348-af22-4a69-b64d-5f676f9ed7ee.png)"
   ]
  },
  {
   "cell_type": "code",
   "execution_count": null,
   "id": "6be39f6d-2eee-411c-b2d4-4679accb648c",
   "metadata": {},
   "outputs": [],
   "source": []
  },
  {
   "cell_type": "code",
   "execution_count": null,
   "id": "3005dd54-d736-4577-a7a4-f3f341b5cc35",
   "metadata": {},
   "outputs": [],
   "source": []
  }
 ],
 "metadata": {
  "kernelspec": {
   "display_name": "Python 3 (ipykernel)",
   "language": "python",
   "name": "python3"
  },
  "language_info": {
   "codemirror_mode": {
    "name": "ipython",
    "version": 3
   },
   "file_extension": ".py",
   "mimetype": "text/x-python",
   "name": "python",
   "nbconvert_exporter": "python",
   "pygments_lexer": "ipython3",
   "version": "3.11.1"
  }
 },
 "nbformat": 4,
 "nbformat_minor": 5
}
